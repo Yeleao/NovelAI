{
  "nbformat": 4,
  "nbformat_minor": 0,
  "metadata": {
    "colab": {
      "provenance": [],
      "collapsed_sections": [],
      "include_colab_link": true
    },
    "kernelspec": {
      "name": "python3",
      "display_name": "Python 3"
    },
    "language_info": {
      "name": "python"
    },
    "accelerator": "GPU",
    "gpuClass": "standard"
  },
  "cells": [
    {
      "cell_type": "markdown",
      "metadata": {
        "id": "view-in-github",
        "colab_type": "text"
      },
      "source": [
        "<a href=\"https://colab.research.google.com/github/Yeleao/NovelAI/blob/main/NovelAI_Colab.ipynb\" target=\"_parent\"><img src=\"https://colab.research.google.com/assets/colab-badge.svg\" alt=\"Open In Colab\"/></a>"
      ]
    },
    {
      "cell_type": "markdown",
      "source": [
        "**请先打开COLAB的GPU支持\n",
        "上方任务栏 代码执行程序 -> 更改运行时类型 -> 硬件加速器选择 GPU**"
      ],
      "metadata": {
        "id": "6228oByPj9Mn"
      }
    },
    {
      "cell_type": "code",
      "source": [
        "#@title 结束Colab进程\n",
        "#@markdown 会导致colab崩溃，不用管 （必要）\n",
        "import os\n",
        "os.kill(os.getpid(), 9) # 必要，报错很正常"
      ],
      "metadata": {
        "id": "8apfMDmdkGRU"
      },
      "execution_count": null,
      "outputs": []
    },
    {
      "cell_type": "code",
      "source": [
        "#@title 挂载云盘\n",
        "#@markdown 同意请求。确保云盘有5G的剩余空间\n",
        "from google.colab import drive\n",
        "drive.mount( \"/content/drive/\")"
      ],
      "metadata": {
        "id": "DJ7Ttz31Ptl3"
      },
      "execution_count": null,
      "outputs": []
    },
    {
      "cell_type": "code",
      "source": [
        "#@title 下载Webui\n",
        "!git clone https://github.com/AUTOMATIC1111/stable-diffusion-webui.git\n",
        "%cd stable-diffusion-webui"
      ],
      "metadata": {
        "id": "sBbcB4vwj_jm"
      },
      "execution_count": null,
      "outputs": []
    },
    {
      "cell_type": "code",
      "source": [
        "#@title 安装依赖\n",
        "!COMMANDLINE_ARGS=\"--exit\" REQS_FILE=\"requirements.txt\" python launch.py"
      ],
      "metadata": {
        "id": "IB19TzabDtYF"
      },
      "execution_count": null,
      "outputs": []
    },
    {
      "cell_type": "code",
      "source": [
        "#@title 云盘复制版(推荐使用，需先进行文件上传)\n",
        "\n",
        "!cp /content/drive/MyDrive/stableckpt/animefull-final-pruned/model.ckpt /content/stable-diffusion-webui/models/Stable-diffusion/final-pruned.ckpt\n",
        "!cp /content/drive/MyDrive/stableckpt/animevae.pt /content/stable-diffusion-webui/models/Stable-diffusion/final-pruned.vae.pt\n",
        "!mkdir /content/stable-diffusion-webui/models/hypernetworks\n",
        "!cp -r /content/drive/MyDrive/stableckpt/modules/modules/* /content/stable-diffusion-webui/models/hypernetworks\n",
        "!rm /content/stable-diffusion-webui/repositories/stable-diffusion/configs/stable-diffusion/v1-inference.yaml\n",
        "!cp /content/drive/MyDrive/stableckpt/animefull-final-pruned/config.yaml /content/stable-diffusion-webui/repositories/stable-diffusion/configs/stable-diffusion/v1-inference.yaml"
      ],
      "metadata": {
        "id": "fPeZc5D0llCu"
      },
      "execution_count": null,
      "outputs": []
    },
    {
      "cell_type": "code",
      "source": [
        "#@title （1）加载模型 (小模型) \n",
        "\n",
        "!cp /content/drive/MyDrive/stableckpt/animefull-final-pruned/model.ckpt /content/stable-diffusion-webui/models/Stable-diffusion/final-pruned.ckpt\n",
        "!cp /content/drive/MyDrive/stableckpt/animevae.pt /content/stable-diffusion-webui/models/Stable-diffusion/final-pruned.vae.pt\n",
        "!cp /content/drive/MyDrive/NovelAi/hypernetworks.zip /content/stable-diffusion-webui/models/\n",
        "%cd /content/stable-diffusion-webui/models\n",
        "!unzip hypernetworks.zip -d hypernetworks\n",
        "%cd /content/stable-diffusion-webui/repositories/stable-diffusion/configs/stable-diffusion\n",
        "!mv v1-inference.yaml v1-inference-or.yaml\n",
        "!cp /content/drive/MyDrive/stableckpt/animefull-final-pruned/config.yaml /content/stable-diffusion-webui/repositories/stable-diffusion/configs/stable-diffusion/v1-inference.yaml"
      ],
      "metadata": {
        "id": "m6TR7b7ullWf"
      },
      "execution_count": null,
      "outputs": []
    },
    {
      "cell_type": "code",
      "source": [
        "#@title （2）加载模型 (大模型) \n",
        "\n",
        "!cp /content/drive/MyDrive/stableckpt/latest/model.ckpt /content/stable-diffusion-webui/models/Stable-diffusion/\n",
        "!cp /content/drive/MyDrive/stableckpt/animevae.pt /content/stable-diffusion-webui/models/Stable-diffusion/\n",
        "!cp /content/drive/MyDrive/NovelAi/hypernetworks.zip /content/stable-diffusion-webui/models/\n",
        "%cd /content/stable-diffusion-webui/models\n",
        "!unzip hypernetworks.zip -d hypernetworks\n",
        "%cd /content/stable-diffusion-webui/repositories/stable-diffusion/configs/stable-diffusion\n",
        "!mv v1-inference.yaml v1-inference-or.yaml\n",
        "!cp /content/drive/MyDrive/stableckpt/latest/config.yaml /content/stable-diffusion-webui/repositories/stable-diffusion/configs/stable-diffusion/v1-inference.yaml"
      ],
      "metadata": {
        "id": "aFfrJX6qm2N1"
      },
      "execution_count": null,
      "outputs": []
    },
    {
      "cell_type": "code",
      "source": [
        "#@title 加载DeepDanbooru\n",
        "\n",
        "!cp /content/drive/MyDrive/DeepDanbooru/* /content/stable-diffusion-webui/models/deepdanbooru/"
      ],
      "metadata": {
        "id": "-pVzkCa7oavv"
      },
      "execution_count": null,
      "outputs": []
    },
    {
      "cell_type": "code",
      "source": [
        "#@title  加载训练后的模型\n",
        "\n",
        "!cp /content/drive/MyDrive/Embeddings/* /content/stable-diffusion-webui/embeddings/"
      ],
      "metadata": {
        "id": "yw5WGJyvpBsp"
      },
      "execution_count": null,
      "outputs": []
    },
    {
      "cell_type": "markdown",
      "source": [
        "# **运行Webui**\n",
        "\n",
        "命令行参数如下:\n",
        "  - `--share` - 创建一个在线的 gradio.app 链接\n",
        "  - `--gradio-debug` - 打印输出到控制台\n",
        "  - `--deepdanbooru` -使用DeepDanbooru（训练模型时使用）\n",
        "  - `--gradio-auth liu:liu123` - 创建用户"
      ],
      "metadata": {
        "id": "xt8lbdmC04ox"
      }
    },
    {
      "cell_type": "code",
      "source": [
        "!COMMANDLINE_ARGS=\"--share --gradio-debug --gradio-auth liu:liu123\" REQS_FILE=\"requirements.txt\" python launch.py"
      ],
      "metadata": {
        "id": "R-xAdMA5wxXd"
      },
      "execution_count": null,
      "outputs": []
    },
    {
      "cell_type": "code",
      "source": [
        "#@title 保存图片到云端\n",
        "!cp -r /content/stable-diffusion-webui/outputs /content/drive/MyDrive/outputs/"
      ],
      "metadata": {
        "id": "JQMd1XlSqX_9"
      },
      "execution_count": null,
      "outputs": []
    }
  ]
}